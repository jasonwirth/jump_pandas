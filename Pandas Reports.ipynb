{
 "metadata": {
  "name": ""
 },
 "nbformat": 3,
 "nbformat_minor": 0,
 "worksheets": [
  {
   "cells": [
    {
     "cell_type": "markdown",
     "metadata": {},
     "source": [
      "# How can Python and Pandas make your life easy?"
     ]
    },
    {
     "cell_type": "markdown",
     "metadata": {},
     "source": [
      "## Let's create a report!\n",
      "\n",
      "We have a big csv file of trade histories.\n",
      "\n",
      "It looks something like this...\n",
      "\n",
      "- Symbol\n",
      "- Name\n",
      "- Date\n",
      "- Qty"
     ]
    },
    {
     "cell_type": "code",
     "collapsed": false,
     "input": [
      "!head \"trade_history.csv\""
     ],
     "language": "python",
     "metadata": {},
     "outputs": [
      {
       "output_type": "stream",
       "stream": "stdout",
       "text": [
        "Symbol,Name,Date,Qty\r\n",
        "UNH,UnitedHealth Group Incorporated,2013-08-25,286\r\n",
        "MRK,Merck & Co. Inc.,2013-06-10,241\r\n",
        "MRK,Merck & Co. Inc.,2013-08-10,949\r\n",
        "MCD,McDonald's Corp.,2013-08-15,203\r\n",
        "DIS,The Walt Disney Company,2013-08-13,823\r\n",
        "WMT,Wal-Mart Stores Inc.,2013-06-25,131\r\n",
        "DD,E. I. du Pont de Nemours and Company,2013-07-27,425\r\n",
        "GS,The Goldman Sachs Group,2013-01-12,699\r\n",
        "HD,The Home Depot,2013-02-24,634\r\n"
       ]
      }
     ],
     "prompt_number": 6
    },
    {
     "cell_type": "markdown",
     "metadata": {},
     "source": [
      "## Import stuff"
     ]
    },
    {
     "cell_type": "code",
     "collapsed": false,
     "input": [
      "import pandas as pd"
     ],
     "language": "python",
     "metadata": {},
     "outputs": [],
     "prompt_number": 7
    },
    {
     "cell_type": "markdown",
     "metadata": {},
     "source": [
      "## Read in the trade histories"
     ]
    },
    {
     "cell_type": "code",
     "collapsed": false,
     "input": [
      "df = pd.read_csv(\"trade_history.csv\")\n",
      "df.head()"
     ],
     "language": "python",
     "metadata": {},
     "outputs": [
      {
       "html": [
        "<div style=\"max-height:1000px;max-width:1500px;overflow:auto;\">\n",
        "<table border=\"1\" class=\"dataframe\">\n",
        "  <thead>\n",
        "    <tr style=\"text-align: right;\">\n",
        "      <th></th>\n",
        "      <th>Symbol</th>\n",
        "      <th>Name</th>\n",
        "      <th>Date</th>\n",
        "      <th>Qty</th>\n",
        "    </tr>\n",
        "  </thead>\n",
        "  <tbody>\n",
        "    <tr>\n",
        "      <th>0</th>\n",
        "      <td> UNH</td>\n",
        "      <td> UnitedHealth Group Incorporated</td>\n",
        "      <td> 2013-08-25</td>\n",
        "      <td> 286</td>\n",
        "    </tr>\n",
        "    <tr>\n",
        "      <th>1</th>\n",
        "      <td> MRK</td>\n",
        "      <td>                Merck &amp; Co. Inc.</td>\n",
        "      <td> 2013-06-10</td>\n",
        "      <td> 241</td>\n",
        "    </tr>\n",
        "    <tr>\n",
        "      <th>2</th>\n",
        "      <td> MRK</td>\n",
        "      <td>                Merck &amp; Co. Inc.</td>\n",
        "      <td> 2013-08-10</td>\n",
        "      <td> 949</td>\n",
        "    </tr>\n",
        "    <tr>\n",
        "      <th>3</th>\n",
        "      <td> MCD</td>\n",
        "      <td>                McDonald's Corp.</td>\n",
        "      <td> 2013-08-15</td>\n",
        "      <td> 203</td>\n",
        "    </tr>\n",
        "    <tr>\n",
        "      <th>4</th>\n",
        "      <td> DIS</td>\n",
        "      <td>         The Walt Disney Company</td>\n",
        "      <td> 2013-08-13</td>\n",
        "      <td> 823</td>\n",
        "    </tr>\n",
        "  </tbody>\n",
        "</table>\n",
        "</div>"
       ],
       "metadata": {},
       "output_type": "pyout",
       "prompt_number": 8,
       "text": [
        "  Symbol                             Name        Date  Qty\n",
        "0    UNH  UnitedHealth Group Incorporated  2013-08-25  286\n",
        "1    MRK                 Merck & Co. Inc.  2013-06-10  241\n",
        "2    MRK                 Merck & Co. Inc.  2013-08-10  949\n",
        "3    MCD                 McDonald's Corp.  2013-08-15  203\n",
        "4    DIS          The Walt Disney Company  2013-08-13  823"
       ]
      }
     ],
     "prompt_number": 8
    },
    {
     "cell_type": "markdown",
     "metadata": {},
     "source": [
      "## Sum the the trade quantities"
     ]
    },
    {
     "cell_type": "code",
     "collapsed": false,
     "input": [
      "summed_qty = df.groupby([\"Symbol\", \"Name\"]).Qty.sum()\n",
      "summed_qty"
     ],
     "language": "python",
     "metadata": {},
     "outputs": [
      {
       "metadata": {},
       "output_type": "pyout",
       "prompt_number": 9,
       "text": [
        "Symbol  Name                                       \n",
        "AXP     American Express Company                        8954\n",
        "BA      The Boeing Company                              5649\n",
        "CAT     Caterpillar Inc.                               10505\n",
        "CSCO    Cisco Systems                                   9287\n",
        "CVX     Chevron Corporation                             8995\n",
        "DD      E. I. du Pont de Nemours and Company            9445\n",
        "DIS     The Walt Disney Company                         8502\n",
        "GE      General Electric Company                        7825\n",
        "GS      The Goldman Sachs Group                         7023\n",
        "HD      The Home Depot                                  8391\n",
        "IBM     International Business Machines Corporation    10851\n",
        "INTC    Intel Corporation                               8608\n",
        "JNJ     Johnson & Johnson                               6999\n",
        "JPM     JPMorgan Chase & Co.                            6284\n",
        "KO      The Coca-Cola Company                           7133\n",
        "MCD     McDonald's Corp.                                6891\n",
        "MMM     3M Company                                      5984\n",
        "MRK     Merck & Co. Inc.                                6985\n",
        "MSFT    Microsoft Corporation                           8143\n",
        "NKE     Nike                                           10048\n",
        "PFE     Pfizer Inc.                                     5434\n",
        "PG      The Procter & Gamble Company                   11209\n",
        "T       AT&T                                            4961\n",
        "TRV     The Travelers Companies                         7752\n",
        "UNH     UnitedHealth Group Incorporated                 7511\n",
        "UTX     United Technologies Corp.                      10406\n",
        "V       Visa Inc.                                       5423\n",
        "VZ      Verizon Communications Inc.                    10995\n",
        "WMT     Wal-Mart Stores Inc.                            8868\n",
        "XOM     Exxon Mobil Corporation                         9277\n",
        "Name: Qty, dtype: int64"
       ]
      }
     ],
     "prompt_number": 9
    },
    {
     "cell_type": "markdown",
     "metadata": {},
     "source": [
      "# Write the report to csv"
     ]
    },
    {
     "cell_type": "code",
     "collapsed": false,
     "input": [
      "summed_qty.to_csv(\"trade_history_report.csv\", header=True)\n",
      "\n",
      "!head \"trade_history_report.csv\""
     ],
     "language": "python",
     "metadata": {},
     "outputs": [
      {
       "output_type": "stream",
       "stream": "stdout",
       "text": [
        "Symbol,Name,Qty\r\n",
        "AXP,American Express Company,8954\r\n",
        "BA,The Boeing Company,5649\r\n",
        "CAT,Caterpillar Inc.,10505\r\n",
        "CSCO,Cisco Systems,9287\r\n",
        "CVX,Chevron Corporation,8995\r\n",
        "DD,E. I. du Pont de Nemours and Company,9445\r\n",
        "DIS,The Walt Disney Company,8502\r\n",
        "GE,General Electric Company,7825\r\n",
        "GS,The Goldman Sachs Group,7023\r\n"
       ]
      }
     ],
     "prompt_number": 11
    },
    {
     "cell_type": "markdown",
     "metadata": {},
     "source": [
      "## What if we need to filter something?\n",
      "\n",
      "Some trader only wants to see trades for December"
     ]
    },
    {
     "cell_type": "code",
     "collapsed": false,
     "input": [
      "dec_trades = df.Date.str.contains(\"2013-12\")\n",
      "dec_summed = df[dec_trades].groupby(['Symbol', 'Name']).sum()\n",
      "dec_summed"
     ],
     "language": "python",
     "metadata": {},
     "outputs": [
      {
       "html": [
        "<div style=\"max-height:1000px;max-width:1500px;overflow:auto;\">\n",
        "<table border=\"1\" class=\"dataframe\">\n",
        "  <thead>\n",
        "    <tr style=\"text-align: right;\">\n",
        "      <th></th>\n",
        "      <th></th>\n",
        "      <th>Qty</th>\n",
        "    </tr>\n",
        "    <tr>\n",
        "      <th>Symbol</th>\n",
        "      <th>Name</th>\n",
        "      <th></th>\n",
        "    </tr>\n",
        "  </thead>\n",
        "  <tbody>\n",
        "    <tr>\n",
        "      <th>BA</th>\n",
        "      <th>The Boeing Company</th>\n",
        "      <td> 1067</td>\n",
        "    </tr>\n",
        "    <tr>\n",
        "      <th>CAT</th>\n",
        "      <th>Caterpillar Inc.</th>\n",
        "      <td> 1880</td>\n",
        "    </tr>\n",
        "    <tr>\n",
        "      <th>CSCO</th>\n",
        "      <th>Cisco Systems</th>\n",
        "      <td> 1474</td>\n",
        "    </tr>\n",
        "    <tr>\n",
        "      <th>DD</th>\n",
        "      <th>E. I. du Pont de Nemours and Company</th>\n",
        "      <td>  377</td>\n",
        "    </tr>\n",
        "    <tr>\n",
        "      <th>DIS</th>\n",
        "      <th>The Walt Disney Company</th>\n",
        "      <td> 2333</td>\n",
        "    </tr>\n",
        "    <tr>\n",
        "      <th>GE</th>\n",
        "      <th>General Electric Company</th>\n",
        "      <td>  514</td>\n",
        "    </tr>\n",
        "    <tr>\n",
        "      <th>GS</th>\n",
        "      <th>The Goldman Sachs Group</th>\n",
        "      <td>  934</td>\n",
        "    </tr>\n",
        "    <tr>\n",
        "      <th>IBM</th>\n",
        "      <th>International Business Machines Corporation</th>\n",
        "      <td>  893</td>\n",
        "    </tr>\n",
        "    <tr>\n",
        "      <th>INTC</th>\n",
        "      <th>Intel Corporation</th>\n",
        "      <td>  214</td>\n",
        "    </tr>\n",
        "    <tr>\n",
        "      <th>MMM</th>\n",
        "      <th>3M Company</th>\n",
        "      <td>  659</td>\n",
        "    </tr>\n",
        "    <tr>\n",
        "      <th>MRK</th>\n",
        "      <th>Merck &amp; Co. Inc.</th>\n",
        "      <td>  528</td>\n",
        "    </tr>\n",
        "    <tr>\n",
        "      <th>MSFT</th>\n",
        "      <th>Microsoft Corporation</th>\n",
        "      <td>  155</td>\n",
        "    </tr>\n",
        "    <tr>\n",
        "      <th>NKE</th>\n",
        "      <th>Nike</th>\n",
        "      <td> 1511</td>\n",
        "    </tr>\n",
        "    <tr>\n",
        "      <th>PFE</th>\n",
        "      <th>Pfizer Inc.</th>\n",
        "      <td> 1442</td>\n",
        "    </tr>\n",
        "    <tr>\n",
        "      <th>PG</th>\n",
        "      <th>The Procter &amp; Gamble Company</th>\n",
        "      <td> 1443</td>\n",
        "    </tr>\n",
        "    <tr>\n",
        "      <th>T</th>\n",
        "      <th>AT&amp;T</th>\n",
        "      <td>  575</td>\n",
        "    </tr>\n",
        "    <tr>\n",
        "      <th>TRV</th>\n",
        "      <th>The Travelers Companies</th>\n",
        "      <td>  884</td>\n",
        "    </tr>\n",
        "    <tr>\n",
        "      <th>UTX</th>\n",
        "      <th>United Technologies Corp.</th>\n",
        "      <td>  349</td>\n",
        "    </tr>\n",
        "    <tr>\n",
        "      <th>V</th>\n",
        "      <th>Visa Inc.</th>\n",
        "      <td> 1302</td>\n",
        "    </tr>\n",
        "    <tr>\n",
        "      <th>VZ</th>\n",
        "      <th>Verizon Communications Inc.</th>\n",
        "      <td>  467</td>\n",
        "    </tr>\n",
        "    <tr>\n",
        "      <th>WMT</th>\n",
        "      <th>Wal-Mart Stores Inc.</th>\n",
        "      <td>  710</td>\n",
        "    </tr>\n",
        "    <tr>\n",
        "      <th>XOM</th>\n",
        "      <th>Exxon Mobil Corporation</th>\n",
        "      <td>  896</td>\n",
        "    </tr>\n",
        "  </tbody>\n",
        "</table>\n",
        "</div>"
       ],
       "metadata": {},
       "output_type": "pyout",
       "prompt_number": 12,
       "text": [
        "                                                     Qty\n",
        "Symbol Name                                             \n",
        "BA     The Boeing Company                           1067\n",
        "CAT    Caterpillar Inc.                             1880\n",
        "CSCO   Cisco Systems                                1474\n",
        "DD     E. I. du Pont de Nemours and Company          377\n",
        "DIS    The Walt Disney Company                      2333\n",
        "GE     General Electric Company                      514\n",
        "GS     The Goldman Sachs Group                       934\n",
        "IBM    International Business Machines Corporation   893\n",
        "INTC   Intel Corporation                             214\n",
        "MMM    3M Company                                    659\n",
        "MRK    Merck & Co. Inc.                              528\n",
        "MSFT   Microsoft Corporation                         155\n",
        "NKE    Nike                                         1511\n",
        "PFE    Pfizer Inc.                                  1442\n",
        "PG     The Procter & Gamble Company                 1443\n",
        "T      AT&T                                          575\n",
        "TRV    The Travelers Companies                       884\n",
        "UTX    United Technologies Corp.                     349\n",
        "V      Visa Inc.                                    1302\n",
        "VZ     Verizon Communications Inc.                   467\n",
        "WMT    Wal-Mart Stores Inc.                          710\n",
        "XOM    Exxon Mobil Corporation                       896"
       ]
      }
     ],
     "prompt_number": 12
    },
    {
     "cell_type": "code",
     "collapsed": false,
     "input": [
      "# Write the summed Dec Report\n",
      "dec_summed.to_csv(\"trade_history_report_2013-12.csv\")\n",
      "\n",
      "!head \"trade_history_report_2013-12.csv\""
     ],
     "language": "python",
     "metadata": {},
     "outputs": [
      {
       "output_type": "stream",
       "stream": "stdout",
       "text": [
        "Symbol,Name,Qty\r\n",
        "BA,The Boeing Company,1067\r\n",
        "CAT,Caterpillar Inc.,1880\r\n",
        "CSCO,Cisco Systems,1474\r\n",
        "DD,E. I. du Pont de Nemours and Company,377\r\n",
        "DIS,The Walt Disney Company,2333\r\n",
        "GE,General Electric Company,514\r\n",
        "GS,The Goldman Sachs Group,934\r\n",
        "IBM,International Business Machines Corporation,893\r\n",
        "INTC,Intel Corporation,214\r\n"
       ]
      }
     ],
     "prompt_number": 13
    },
    {
     "cell_type": "markdown",
     "metadata": {},
     "source": [
      "## Pandas is awesome because...\n",
      "\n",
      "This task is like 3 lines of code... and two of those are reading data in and handling data out.\n",
      "\n",
      "    df = pd.read_csv(\"trade_history.csv\")\n",
      "    summed_qty = df.groupby([\"Symbol\", \"Name\"]).Qty.sum()\n",
      "    summed.to_csv(\"trade_history_report.csv\", header=True)\n"
     ]
    },
    {
     "cell_type": "markdown",
     "metadata": {},
     "source": [
      "-----"
     ]
    },
    {
     "cell_type": "markdown",
     "metadata": {},
     "source": [
      "# Helper functions to make random data\n",
      "\n",
      "This is just a collection of helper functions to make the random data for the test"
     ]
    },
    {
     "cell_type": "code",
     "collapsed": false,
     "input": [
      "symbols = [\"AXP\",\n",
      "           \"BA\",\n",
      "           \"CAT\",\n",
      "           \"CSCO\",\n",
      "           \"CVX\",\n",
      "           \"DD\",\n",
      "           \"DIS\",\n",
      "           \"GE\",\n",
      "           \"GS\",\n",
      "           \"HD\",\n",
      "           \"IBM\",\n",
      "           \"INTC\",\n",
      "           \"JNJ\",\n",
      "           \"JPM\",\n",
      "           \"KO\",\n",
      "           \"MCD\",\n",
      "           \"MMM\",\n",
      "           \"MRK\",\n",
      "           \"MSFT\",\n",
      "           \"NKE\",\n",
      "           \"PFE\",\n",
      "           \"PG\",\n",
      "           \"T\",\n",
      "           \"TRV\",\n",
      "           \"UNH\",\n",
      "           \"UTX\",\n",
      "           \"V\",\n",
      "           \"VZ\",\n",
      "           \"WMT\",\n",
      "           \"XOM\"]\n",
      "\n",
      "names = [\"American Express Company\",\n",
      "         \"The Boeing Company\",\n",
      "         \"Caterpillar Inc.\",\n",
      "         \"Cisco Systems\",\n",
      "         \"Chevron Corporation\",\n",
      "         \"E. I. du Pont de Nemours and Company\",\n",
      "         \"The Walt Disney Company\",\n",
      "         \"General Electric Company\",\n",
      "         \"The Goldman Sachs Group\",\n",
      "         \"The Home Depot\",\n",
      "         \"International Business Machines Corporation\",\n",
      "         \"Intel Corporation\",\n",
      "         \"Johnson & Johnson\",\n",
      "         \"JPMorgan Chase & Co.\",\n",
      "         \"The Coca-Cola Company\",\n",
      "         \"McDonald's Corp.\",\n",
      "         \"3M Company\",\n",
      "         \"Merck & Co. Inc.\",\n",
      "         \"Microsoft Corporation\",\n",
      "         \"Nike\",\n",
      "         \"Pfizer Inc.\",\n",
      "         \"The Procter & Gamble Company\",\n",
      "         \"AT&T\",\n",
      "         \"The Travelers Companies\",\n",
      "         \"UnitedHealth Group Incorporated\",\n",
      "         \"United Technologies Corp.\",\n",
      "         \"Visa Inc.\",\n",
      "         \"Verizon Communications Inc.\",\n",
      "         \"Wal-Mart Stores Inc.\",\n",
      "         \"Exxon Mobil Corporation\"]\n",
      "\n",
      "symbols_names = zip(symbols, names)\n",
      "    "
     ],
     "language": "python",
     "metadata": {},
     "outputs": [],
     "prompt_number": 1
    },
    {
     "cell_type": "code",
     "collapsed": false,
     "input": [
      "import random\n",
      "from datetime import datetime"
     ],
     "language": "python",
     "metadata": {},
     "outputs": [],
     "prompt_number": 2
    },
    {
     "cell_type": "code",
     "collapsed": false,
     "input": [
      "def random_date(start=(2013, 1, 1), end=(2014,1,1)):\n",
      "    ''' inputs tuples of (year, month, day)\n",
      "    returns random date between those points '''\n",
      "\n",
      "    ord_start = datetime(*start).toordinal()\n",
      "    ord_end = datetime(*end).toordinal()\n",
      "\n",
      "    random_ordinal = random.randint(ord_start, ord_end)\n",
      "    random_date = datetime.fromordinal(random_ordinal)\n",
      "    \n",
      "    return random_date.strftime(\"%Y-%m-%d\")\n",
      "    \n",
      "\n",
      "random_date()"
     ],
     "language": "python",
     "metadata": {},
     "outputs": [
      {
       "metadata": {},
       "output_type": "pyout",
       "prompt_number": 3,
       "text": [
        "'2013-03-14'"
       ]
      }
     ],
     "prompt_number": 3
    },
    {
     "cell_type": "code",
     "collapsed": false,
     "input": [
      "def make_csv_line():\n",
      "    ''' Helper function to combine data to a string '''\n",
      "    symbol, name = random.choice(symbols_names)\n",
      "    return ','.join([symbol, name, random_date(), str(random.randint(10, 1000))])\n",
      "\n",
      "make_csv_line()"
     ],
     "language": "python",
     "metadata": {},
     "outputs": [
      {
       "metadata": {},
       "output_type": "pyout",
       "prompt_number": 4,
       "text": [
        "'UNH,UnitedHealth Group Incorporated,2013-11-21,90'"
       ]
      }
     ],
     "prompt_number": 4
    },
    {
     "cell_type": "code",
     "collapsed": false,
     "input": [
      "def make_dummy_data(filename, lines):\n",
      "    \"\"\" Creates a file of random dummy data\"\"\"\n",
      "    header = \"Symbol,Name,Date,Qty\"\n",
      "    \n",
      "    with open(filename, \"w\") as f:\n",
      "        # write the header\n",
      "        f.write(\"%s\\n\" % header)\n",
      "        \n",
      "        # Write the remaining lines\n",
      "        for i in range(lines):\n",
      "            f.write(\"%s\\n\" % make_csv_line())\n",
      "        \n",
      "make_dummy_data(\"trade_history.csv\", 500)\n",
      "\n",
      "!head \"trade_history.csv\""
     ],
     "language": "python",
     "metadata": {},
     "outputs": [
      {
       "output_type": "stream",
       "stream": "stdout",
       "text": [
        "Symbol,Name,Date,Qty\r\n",
        "UNH,UnitedHealth Group Incorporated,2013-08-25,286\r\n",
        "MRK,Merck & Co. Inc.,2013-06-10,241\r\n",
        "MRK,Merck & Co. Inc.,2013-08-10,949\r\n",
        "MCD,McDonald's Corp.,2013-08-15,203\r\n",
        "DIS,The Walt Disney Company,2013-08-13,823\r\n",
        "WMT,Wal-Mart Stores Inc.,2013-06-25,131\r\n",
        "DD,E. I. du Pont de Nemours and Company,2013-07-27,425\r\n",
        "GS,The Goldman Sachs Group,2013-01-12,699\r\n",
        "HD,The Home Depot,2013-02-24,634\r\n"
       ]
      }
     ],
     "prompt_number": 5
    },
    {
     "cell_type": "code",
     "collapsed": false,
     "input": [],
     "language": "python",
     "metadata": {},
     "outputs": []
    }
   ],
   "metadata": {}
  }
 ]
}